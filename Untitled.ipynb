{
 "cells": [
  {
   "cell_type": "code",
   "execution_count": null,
   "id": "7da3e4b4",
   "metadata": {},
   "outputs": [],
   "source": []
  },
  {
   "cell_type": "markdown",
   "id": "d23db049",
   "metadata": {},
   "source": [
    "# Linear Programming in python \n",
    "\n",
    "# Example\n",
    "\n",
    "minimize z = 2x + y\n",
    "\n",
    "subject to: \n",
    "\n",
    "2y + X <= 22\n",
    "2y + 5X <= 100\n",
    "2x + y = 14\n",
    "x>=0\n",
    "y>= 0\n",
    "                 \n",
    "# The Objective function that is to be optimized (minimized or maximized) is Z\n",
    "\n",
    "#Note that not all LPP have a solutions. A LPP is infeasible if it doesn't have a solution. The situation arises when all constraints\n",
    " can be satisfied.\n"
   ]
  },
  {
   "cell_type": "code",
   "execution_count": 1,
   "id": "980684d7",
   "metadata": {},
   "outputs": [],
   "source": [
    "#import scipy as a packge\n",
    "from scipy.optimize import linprog"
   ]
  },
  {
   "cell_type": "markdown",
   "id": "72220603",
   "metadata": {},
   "source": [
    "linprog() does not allow maximization. So we have to convert it to a minimization problem\n",
    "\n",
    "The problem becomes: minimize -Z . -2x-y\n",
    "\n",
    "Also note that linprog() does not allow (>=). So we need to make appropriate adjustments to the constraints\n"
   ]
  },
  {
   "cell_type": "code",
   "execution_count": 23,
   "id": "4010f335",
   "metadata": {},
   "outputs": [],
   "source": [
    "obj = [-2, -1]\n",
    "                     #coefficients of the objective function\n",
    "lhs = [[2, 1], [-5,4], [-1, 4]] #coefficients of the LHS (inequalities)\n",
    "rhs = [22, 15, 12]\n",
    "                                  #coefficients of the RHS (inequalities)\n",
    "lhs_eq = [[-1, 4]]\n",
    "                                  #coefficients of the LHS (equalities)\n",
    "rhs_eq = [16]\n",
    "                                  #coefficients of the RHS (equalities)\n",
    "\n",
    "#######\n",
    "c = [-1, 4]\n",
    "A = [[-3, 1], [1, 2]]\n",
    "b = [6, 4]\n",
    "x0_bounds = (None, None)\n",
    "x1_bounds = (-3, None)"
   ]
  },
  {
   "cell_type": "code",
   "execution_count": 15,
   "id": "a0384fc8",
   "metadata": {},
   "outputs": [],
   "source": [
    "#Boundry of decision variables \n",
    "\n",
    "bnd = [(0,float('inf')),(0,float('inf'))]"
   ]
  },
  {
   "cell_type": "markdown",
   "id": "fe52a103",
   "metadata": {},
   "source": [
    "Note that the lingprog() function takes the 0 to inf by default .\n",
    "So it latches our requirements"
   ]
  },
  {
   "cell_type": "code",
   "execution_count": 20,
   "id": "c632daf8",
   "metadata": {},
   "outputs": [
    {
     "ename": "TypeError",
     "evalue": "linprog() got an unexpected keyword argument 'a_ub'",
     "output_type": "error",
     "traceback": [
      "\u001b[0;31m---------------------------------------------------------------------------\u001b[0m",
      "\u001b[0;31mTypeError\u001b[0m                                 Traceback (most recent call last)",
      "Cell \u001b[0;32mIn [20], line 1\u001b[0m\n\u001b[0;32m----> 1\u001b[0m optimization \u001b[38;5;241m=\u001b[39m \u001b[43mlinprog\u001b[49m\u001b[43m(\u001b[49m\u001b[43mc\u001b[49m\u001b[43m \u001b[49m\u001b[38;5;241;43m=\u001b[39;49m\u001b[43m \u001b[49m\u001b[43mobj\u001b[49m\u001b[43m,\u001b[49m\u001b[43m \u001b[49m\u001b[43ma_ub\u001b[49m\u001b[43m \u001b[49m\u001b[38;5;241;43m=\u001b[39;49m\u001b[43m \u001b[49m\u001b[43mlhs\u001b[49m\u001b[43m,\u001b[49m\u001b[43m \u001b[49m\u001b[43mb_ub\u001b[49m\u001b[43m \u001b[49m\u001b[38;5;241;43m=\u001b[39;49m\u001b[43m \u001b[49m\u001b[43mrhs\u001b[49m\u001b[43m,\u001b[49m\n\u001b[1;32m      2\u001b[0m \u001b[43m                        \u001b[49m\u001b[43mbounds\u001b[49m\u001b[43m \u001b[49m\u001b[38;5;241;43m=\u001b[39;49m\u001b[43m \u001b[49m\u001b[43mbnd\u001b[49m\u001b[43m,\u001b[49m\n\u001b[1;32m      3\u001b[0m \u001b[43m                      \u001b[49m\u001b[43mmethod\u001b[49m\u001b[43m \u001b[49m\u001b[38;5;241;43m=\u001b[39;49m\u001b[43m \u001b[49m\u001b[38;5;124;43m'\u001b[39;49m\u001b[38;5;124;43msimplex\u001b[39;49m\u001b[38;5;124;43m'\u001b[39;49m\u001b[43m)\u001b[49m\n\u001b[1;32m      4\u001b[0m optimization\n",
      "\u001b[0;31mTypeError\u001b[0m: linprog() got an unexpected keyword argument 'a_ub'"
     ]
    }
   ],
   "source": [
    "optimization = linprog(c , a_ub = lhs, b_ub = rhs,\n",
    "                        bounds = bnd,\n",
    "                      method = 'simplex')\n",
    "optimization\n"
   ]
  },
  {
   "cell_type": "code",
   "execution_count": 25,
   "id": "b4c6d97c",
   "metadata": {},
   "outputs": [
    {
     "data": {
      "text/plain": [
       "           con: array([], dtype=float64)\n",
       " crossover_nit: 0\n",
       "         eqlin:  marginals: array([], dtype=float64)\n",
       "  residual: array([], dtype=float64)\n",
       "           fun: -22.0\n",
       "       ineqlin:  marginals: array([-0., -1.])\n",
       "  residual: array([39.,  0.])\n",
       "         lower:  marginals: array([0., 6.])\n",
       "  residual: array([inf,  0.])\n",
       "       message: 'Optimization terminated successfully. (HiGHS Status 7: Optimal)'\n",
       "           nit: 0\n",
       "         slack: array([39.,  0.])\n",
       "        status: 0\n",
       "       success: True\n",
       "         upper:  marginals: array([0., 0.])\n",
       "  residual: array([inf, inf])\n",
       "             x: array([10., -3.])"
      ]
     },
     "execution_count": 25,
     "metadata": {},
     "output_type": "execute_result"
    }
   ],
   "source": [
    "\n",
    "res = linprog(c, A_ub=A, b_ub=b, bounds=[x0_bounds, x1_bounds])\n",
    "res\n"
   ]
  },
  {
   "cell_type": "markdown",
   "id": "346ac8ff",
   "metadata": {},
   "source": [
    "# Linear Programming - real world problem\n",
    "\n",
    "There are 3 products produced by a manufacturing units.\n",
    "\n",
    "- The profits made from each of these products (lets call them X1, x2 and x3) for single sale is 10. 20 and 25 dollars\n",
    "- Total number of products to be produced in a day is a maximum of 50\n",
    "- Raw material M is used by these products. For x1, we need 3 unit of M. For X, we need 2 units of M and for x3 we need 4\n",
    "units of M. Therea are 100 units of M available per day.\n",
    "We need to maximise the profits.\n"
   ]
  },
  {
   "cell_type": "markdown",
   "id": "674bdcb2",
   "metadata": {},
   "source": [
    "Problem:\n",
    "max 10x(1 +20x2 + 25x3 (profit)\n",
    "s.t. : x1 + x2 + x3 <= 80 (manpower constraint)\n",
    "        3x1 + 2X2 + 4x3 <=200 (raw material constraints)\n",
    "        x1,x2,x2 >= 0\n",
    "\n"
   ]
  },
  {
   "cell_type": "code",
   "execution_count": 1,
   "id": "c465e8a5",
   "metadata": {},
   "outputs": [],
   "source": [
    "from docplex.mp.model import Model"
   ]
  },
  {
   "cell_type": "markdown",
   "id": "4812a950",
   "metadata": {},
   "source": [
    "# Create an optimisation model"
   ]
  },
  {
   "cell_type": "code",
   "execution_count": 2,
   "id": "f6a6d6a7",
   "metadata": {},
   "outputs": [],
   "source": [
    "milp_model = Model(name = \"MILP\")"
   ]
  },
  {
   "cell_type": "markdown",
   "id": "60e8c345",
   "metadata": {},
   "source": [
    "\n",
    "# Add decicion variables"
   ]
  },
  {
   "cell_type": "code",
   "execution_count": 3,
   "id": "9a269108",
   "metadata": {},
   "outputs": [],
   "source": [
    "x = milp_model.binary_var(name = 'x')\n",
    "y = milp_model.binary_var(name = 'y' )\n",
    "z = milp_model.integer_var(name = 'z')"
   ]
  },
  {
   "cell_type": "markdown",
   "id": "cc6e9757",
   "metadata": {},
   "source": [
    "# ADD Containts"
   ]
  },
  {
   "cell_type": "code",
   "execution_count": 4,
   "id": "afd75a10",
   "metadata": {},
   "outputs": [],
   "source": [
    "c1 = milp_model.add_constraint(x+y+z<=4,ctname=\"c1\")"
   ]
  },
  {
   "cell_type": "markdown",
   "id": "e9da14bf",
   "metadata": {},
   "source": [
    "# define the objective fonction"
   ]
  },
  {
   "cell_type": "code",
   "execution_count": 12,
   "id": "ac6dcc93",
   "metadata": {},
   "outputs": [
    {
     "name": "stdout",
     "output_type": "stream",
     "text": [
      "Model: MILP\n",
      " - number of variables: 3\n",
      "   - binary=2, integer=1, continuous=0\n",
      " - number of constraints: 1\n",
      "   - linear=1\n",
      " - parameters: defaults\n",
      " - objective: maximize\n",
      " - problem type is: MILP\n"
     ]
    }
   ],
   "source": [
    "obj_fn = 2*x+y+z\n",
    "milp_model.set_objective('max',obj_fn)\n",
    "milp_model.print_information()\n",
    "\n"
   ]
  },
  {
   "cell_type": "markdown",
   "id": "e5f4a3fc",
   "metadata": {},
   "source": [
    "milp_model.set_objective('max',obj_fn)"
   ]
  },
  {
   "cell_type": "markdown",
   "id": "bf090c78",
   "metadata": {},
   "source": [
    "milp_model.print_information()"
   ]
  },
  {
   "cell_type": "markdown",
   "id": "4cf10320",
   "metadata": {},
   "source": [
    "# Solve the prooblem"
   ]
  },
  {
   "cell_type": "code",
   "execution_count": 13,
   "id": "4925ad6b",
   "metadata": {},
   "outputs": [
    {
     "data": {
      "text/plain": [
       "docplex.mp.solution.SolveSolution(obj=5,values={x:1,y:1,z:2})"
      ]
     },
     "execution_count": 13,
     "metadata": {},
     "output_type": "execute_result"
    }
   ],
   "source": [
    "milp_model.solve()"
   ]
  },
  {
   "cell_type": "markdown",
   "id": "66d2880f",
   "metadata": {},
   "source": [
    "\n",
    "# Print the solution"
   ]
  },
  {
   "cell_type": "code",
   "execution_count": 14,
   "id": "365c535f",
   "metadata": {},
   "outputs": [
    {
     "name": "stdout",
     "output_type": "stream",
     "text": [
      "objective: 5\n",
      "  x=1\n",
      "  y=1\n",
      "  z=2\n"
     ]
    }
   ],
   "source": [
    "milp_model.print_solution()"
   ]
  }
 ],
 "metadata": {
  "kernelspec": {
   "display_name": "Python 3 (ipykernel)",
   "language": "python",
   "name": "python3"
  },
  "language_info": {
   "codemirror_mode": {
    "name": "ipython",
    "version": 3
   },
   "file_extension": ".py",
   "mimetype": "text/x-python",
   "name": "python",
   "nbconvert_exporter": "python",
   "pygments_lexer": "ipython3",
   "version": "3.10.6"
  }
 },
 "nbformat": 4,
 "nbformat_minor": 5
}
