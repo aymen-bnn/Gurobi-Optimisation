{
 "cells": [
  {
   "cell_type": "markdown",
   "id": "c2d3f549",
   "metadata": {},
   "source": [
    "# Code in python using Gurobipy#"
   ]
  },
  {
   "cell_type": "markdown",
   "id": "85620f6f",
   "metadata": {},
   "source": [
    "# ############################"
   ]
  },
  {
   "cell_type": "markdown",
   "id": "c9929e78",
   "metadata": {},
   "source": [
    "# Step 1 : Importing gurobipy package"
   ]
  },
  {
   "cell_type": "code",
   "execution_count": 1,
   "id": "60ec4e91",
   "metadata": {},
   "outputs": [],
   "source": [
    "from gurobipy import *"
   ]
  },
  {
   "cell_type": "markdown",
   "id": "3c6bd3bb",
   "metadata": {},
   "source": [
    "# Step 2 : Create an optimisation model "
   ]
  },
  {
   "cell_type": "markdown",
   "id": "0e3ccbc0",
   "metadata": {},
   "source": [
    "Model constructor Initially no variable or constrains \n",
    "Model(name = '')"
   ]
  },
  {
   "cell_type": "code",
   "execution_count": 2,
   "id": "a9d631a8",
   "metadata": {},
   "outputs": [
    {
     "name": "stdout",
     "output_type": "stream",
     "text": [
      "Restricted license - for non-production use only - expires 2024-10-28\n"
     ]
    }
   ],
   "source": [
    "model = Model(name = \"linear program\")"
   ]
  },
  {
   "cell_type": "markdown",
   "id": "4902ba67",
   "metadata": {},
   "source": [
    "# Step 3 : Add decision variables "
   ]
  },
  {
   "cell_type": "code",
   "execution_count": null,
   "id": "83efd5fd",
   "metadata": {},
   "outputs": [],
   "source": [
    "Add a decsision variable to a model \n",
    "Model.addVar(\n",
    "            lb = 0.0,         #(optional) lower bound\n",
    "            ub = float('inf'), #(optional) upper bound\n",
    "            obj = 0.0,         #(optional) objective coefficient\n",
    "            vtype = GRB.CONTINIOUS,    #(optional) variable type\n",
    "            name = \"\"\n",
    ")"
   ]
  },
  {
   "cell_type": "code",
   "execution_count": 5,
   "id": "3a343026",
   "metadata": {},
   "outputs": [],
   "source": [
    "x = model.addVar(name = 'x' ,vtype = GRB.CONTINUOUS, lb = 0)"
   ]
  },
  {
   "cell_type": "code",
   "execution_count": 7,
   "id": "17bd277e",
   "metadata": {},
   "outputs": [],
   "source": [
    "y = model.addVar(name = 'y',vtype = GRB.CONTINUOUS , lb=0)"
   ]
  },
  {
   "cell_type": "markdown",
   "id": "967a9db1",
   "metadata": {},
   "source": [
    "# Step 4 : Define the objective function "
   ]
  },
  {
   "cell_type": "code",
   "execution_count": 8,
   "id": "f0756ea7",
   "metadata": {},
   "outputs": [
    {
     "ename": "SyntaxError",
     "evalue": "invalid syntax (905518297.py, line 1)",
     "output_type": "error",
     "traceback": [
      "\u001b[0;36m  Cell \u001b[0;32mIn [8], line 1\u001b[0;36m\u001b[0m\n\u001b[0;31m    set the model objective equal to expression\u001b[0m\n\u001b[0m        ^\u001b[0m\n\u001b[0;31mSyntaxError\u001b[0m\u001b[0;31m:\u001b[0m invalid syntax\n"
     ]
    }
   ],
   "source": [
    "set the model objective equal to expression\n",
    "Model.setObjective(\n",
    "            expr , #New Objective expression\n",
    "            sense = None #GRB.MINIMIZE for minimisation\n",
    "                         #GRB.MAXIMIZE for maximisation\n",
    ")"
   ]
  },
  {
   "cell_type": "code",
   "execution_count": 10,
   "id": "48c57315",
   "metadata": {},
   "outputs": [],
   "source": [
    "objective_function = 5*x + 4*y\n",
    "model.setObjective(objective_function , GRB.MINIMIZE)"
   ]
  },
  {
   "cell_type": "markdown",
   "id": "a6d5e54a",
   "metadata": {},
   "source": [
    "# Step 5 : Add the constrains"
   ]
  },
  {
   "cell_type": "code",
   "execution_count": null,
   "id": "57002736",
   "metadata": {},
   "outputs": [],
   "source": [
    "Add a constraint to a model\n",
    "Model.addConstr(\n",
    "    constr , #constraint object\n",
    "    name = \"\"#name the constraint\n",
    "               )"
   ]
  },
  {
   "cell_type": "code",
   "execution_count": 11,
   "id": "af3ce963",
   "metadata": {},
   "outputs": [],
   "source": [
    "c1 = model.addConstr(x + y  >= 8 , name = \"c1\")\n",
    "c2 = model.addConstr(2*x + y  >= 10 , name = \"c2\")\n",
    "c1 = model.addConstr(x + 4*y  >= 11 , name = \"c3\")"
   ]
  },
  {
   "cell_type": "markdown",
   "id": "d59df63a",
   "metadata": {},
   "source": [
    "# Step 6 : Solve the model "
   ]
  },
  {
   "cell_type": "code",
   "execution_count": 12,
   "id": "3282dd86",
   "metadata": {},
   "outputs": [
    {
     "name": "stdout",
     "output_type": "stream",
     "text": [
      "Gurobi Optimizer version 10.0.0 build v10.0.0rc2 (linux64)\n",
      "\n",
      "CPU model: Intel(R) Core(TM) i5-6300U CPU @ 2.40GHz, instruction set [SSE2|AVX|AVX2]\n",
      "Thread count: 2 physical cores, 4 logical processors, using up to 4 threads\n",
      "\n",
      "Optimize a model with 3 rows, 2 columns and 6 nonzeros\n",
      "Model fingerprint: 0x6c7cdc94\n",
      "Coefficient statistics:\n",
      "  Matrix range     [1e+00, 4e+00]\n",
      "  Objective range  [4e+00, 5e+00]\n",
      "  Bounds range     [0e+00, 0e+00]\n",
      "  RHS range        [8e+00, 1e+01]\n",
      "Presolve time: 0.01s\n",
      "Presolved: 3 rows, 2 columns, 6 nonzeros\n",
      "\n",
      "Iteration    Objective       Primal Inf.    Dual Inf.      Time\n",
      "       0    0.0000000e+00   1.850000e+01   0.000000e+00      0s\n",
      "       2    3.4000000e+01   0.000000e+00   0.000000e+00      0s\n",
      "\n",
      "Solved in 2 iterations and 0.02 seconds (0.00 work units)\n",
      "Optimal objective  3.400000000e+01\n"
     ]
    }
   ],
   "source": [
    "model.optimize() #optimize the model"
   ]
  },
  {
   "cell_type": "markdown",
   "id": "0565ef29",
   "metadata": {},
   "source": [
    "# Print the result"
   ]
  },
  {
   "cell_type": "code",
   "execution_count": 16,
   "id": "ab563769",
   "metadata": {},
   "outputs": [
    {
     "name": "stdout",
     "output_type": "stream",
     "text": [
      "Objective Function Value: 34.000000\n",
      "x: 2\n",
      "y: 6\n"
     ]
    }
   ],
   "source": [
    "print ('Objective Function Value: %f' % model.objVal)\n",
    " # Get values of the decision variables\n",
    "for v in model.getVars ():\n",
    "     print ('%s: %g' % (v.varName, v.x) )\n"
   ]
  }
 ],
 "metadata": {
  "kernelspec": {
   "display_name": "Python 3 (ipykernel)",
   "language": "python",
   "name": "python3"
  },
  "language_info": {
   "codemirror_mode": {
    "name": "ipython",
    "version": 3
   },
   "file_extension": ".py",
   "mimetype": "text/x-python",
   "name": "python",
   "nbconvert_exporter": "python",
   "pygments_lexer": "ipython3",
   "version": "3.10.6"
  }
 },
 "nbformat": 4,
 "nbformat_minor": 5
}
