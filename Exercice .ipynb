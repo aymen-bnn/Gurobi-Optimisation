{
 "cells": [
  {
   "cell_type": "markdown",
   "id": "739a9384",
   "metadata": {},
   "source": [
    "# Code in python using Gurobipy#"
   ]
  },
  {
   "cell_type": "markdown",
   "id": "a29f024d",
   "metadata": {},
   "source": [
    "# ###########################"
   ]
  },
  {
   "cell_type": "markdown",
   "id": "70c29e67",
   "metadata": {},
   "source": [
    "# Step 1 : Importing gurobipy package"
   ]
  },
  {
   "cell_type": "code",
   "execution_count": 1,
   "id": "2d98fc65",
   "metadata": {},
   "outputs": [],
   "source": [
    "from gurobipy import *"
   ]
  },
  {
   "cell_type": "markdown",
   "id": "bca956c3",
   "metadata": {},
   "source": [
    "# Step 2 : Create an optimisation model"
   ]
  },
  {
   "cell_type": "code",
   "execution_count": null,
   "id": "35c03300",
   "metadata": {},
   "outputs": [],
   "source": [
    "Model constructor Initially no variable or constrains Model(name = '')"
   ]
  },
  {
   "cell_type": "code",
   "execution_count": 2,
   "id": "bbc62946",
   "metadata": {},
   "outputs": [
    {
     "name": "stdout",
     "output_type": "stream",
     "text": [
      "Restricted license - for non-production use only - expires 2024-10-28\n"
     ]
    }
   ],
   "source": [
    "model = Model(name = \"Exercice\")"
   ]
  },
  {
   "cell_type": "markdown",
   "id": "1aa76853",
   "metadata": {},
   "source": [
    "# Step 3 : Add decision variables"
   ]
  },
  {
   "cell_type": "code",
   "execution_count": null,
   "id": "ae37619f",
   "metadata": {},
   "outputs": [],
   "source": [
    "Add a decsision variable to a model \n",
    "Model.addVar(\n",
    "            lb = 0.0,         #(optional) lower bound\n",
    "            ub = float('inf'), #(optional) upper bound\n",
    "            obj = 0.0,         #(optional) objective coefficient\n",
    "            vtype = GRB.CONTINIOUS,    #(optional) variable type\n",
    "            name = \"\"\n",
    ")"
   ]
  },
  {
   "cell_type": "code",
   "execution_count": 3,
   "id": "48e8fe30",
   "metadata": {},
   "outputs": [],
   "source": [
    "x = model.addVar(name = 'x' ,vtype = GRB.CONTINUOUS, lb = 0)"
   ]
  },
  {
   "cell_type": "code",
   "execution_count": 5,
   "id": "a7f35f68",
   "metadata": {},
   "outputs": [],
   "source": [
    "y = model.addVar(name = 'y',vtype = GRB.CONTINUOUS , lb=0)"
   ]
  },
  {
   "cell_type": "code",
   "execution_count": 6,
   "id": "87a30c28",
   "metadata": {},
   "outputs": [],
   "source": [
    "z = model.addVar(name = 'z',vtype = GRB.CONTINUOUS , lb=0)"
   ]
  },
  {
   "cell_type": "markdown",
   "id": "cf4d1c4b",
   "metadata": {},
   "source": [
    "# Step 4 : Define the objective function"
   ]
  },
  {
   "cell_type": "code",
   "execution_count": 7,
   "id": "ccf11d1c",
   "metadata": {},
   "outputs": [],
   "source": [
    "objective_function = 10*x + 20*y + 25*z\n",
    "model.setObjective(objective_function , GRB.MAXIMIZE)"
   ]
  },
  {
   "cell_type": "markdown",
   "id": "9c49de0b",
   "metadata": {},
   "source": [
    "# Step 5 : Add the constrains"
   ]
  },
  {
   "cell_type": "code",
   "execution_count": 8,
   "id": "0c93101a",
   "metadata": {},
   "outputs": [],
   "source": [
    "c1 = model.addConstr(x + y + z  <= 80 , name = \"c1\")\n",
    "c2 = model.addConstr(3*x + 2*y +4*z <= 200 , name = \"c2\")\n",
    "c3 = model.addConstr(x>= 0 , name = \"c3\")\n",
    "c4 = model.addConstr(y>= 0 , name = \"c4\")\n",
    "c5 = model.addConstr(z>= 0 , name = \"c5\")"
   ]
  },
  {
   "cell_type": "markdown",
   "id": "14f44952",
   "metadata": {},
   "source": [
    "# Step 6 : Solve the model"
   ]
  },
  {
   "cell_type": "code",
   "execution_count": 9,
   "id": "79c91ccb",
   "metadata": {},
   "outputs": [
    {
     "name": "stdout",
     "output_type": "stream",
     "text": [
      "Gurobi Optimizer version 10.0.0 build v10.0.0rc2 (linux64)\n",
      "\n",
      "CPU model: Intel(R) Core(TM) i5-6300U CPU @ 2.40GHz, instruction set [SSE2|AVX|AVX2]\n",
      "Thread count: 2 physical cores, 4 logical processors, using up to 4 threads\n",
      "\n",
      "Optimize a model with 5 rows, 4 columns and 9 nonzeros\n",
      "Model fingerprint: 0xecb7d344\n",
      "Coefficient statistics:\n",
      "  Matrix range     [1e+00, 4e+00]\n",
      "  Objective range  [1e+01, 2e+01]\n",
      "  Bounds range     [0e+00, 0e+00]\n",
      "  RHS range        [8e+01, 2e+02]\n",
      "Presolve removed 3 rows and 1 columns\n",
      "Presolve time: 0.02s\n",
      "Presolved: 2 rows, 3 columns, 6 nonzeros\n",
      "\n",
      "Iteration    Objective       Primal Inf.    Dual Inf.      Time\n",
      "       0    2.0000000e+03   1.498725e+01   0.000000e+00      0s\n",
      "       2    1.7000000e+03   0.000000e+00   0.000000e+00      0s\n",
      "\n",
      "Solved in 2 iterations and 0.03 seconds (0.00 work units)\n",
      "Optimal objective  1.700000000e+03\n"
     ]
    }
   ],
   "source": [
    "model.optimize() #optimize the model"
   ]
  },
  {
   "cell_type": "markdown",
   "id": "8cb9fc3d",
   "metadata": {},
   "source": [
    "# Print Solution"
   ]
  },
  {
   "cell_type": "code",
   "execution_count": 10,
   "id": "e59c89cc",
   "metadata": {},
   "outputs": [
    {
     "name": "stdout",
     "output_type": "stream",
     "text": [
      "Objective Function Value: 1700.000000\n",
      "[<gurobi.Var x (value 0.0)>, <gurobi.Var y (value 0.0)>, <gurobi.Var y (value 60.0)>, <gurobi.Var z (value 20.0)>]\n",
      "x: 0\n",
      "y: 0\n",
      "y: 60\n",
      "z: 20\n"
     ]
    }
   ],
   "source": [
    "print ('Objective Function Value: %f' % model.objVal)\n",
    " # Get values of the decision variables\n",
    "print (model.getVars())\n",
    "for v in model.getVars ():\n",
    "     print ('%s: %g' % (v.varName, v.x) )"
   ]
  }
 ],
 "metadata": {
  "kernelspec": {
   "display_name": "Python 3 (ipykernel)",
   "language": "python",
   "name": "python3"
  },
  "language_info": {
   "codemirror_mode": {
    "name": "ipython",
    "version": 3
   },
   "file_extension": ".py",
   "mimetype": "text/x-python",
   "name": "python",
   "nbconvert_exporter": "python",
   "pygments_lexer": "ipython3",
   "version": "3.10.6"
  }
 },
 "nbformat": 4,
 "nbformat_minor": 5
}
